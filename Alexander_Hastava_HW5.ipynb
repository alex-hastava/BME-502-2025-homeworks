{
 "cells": [
  {
   "cell_type": "markdown",
   "id": "1fbe377b",
   "metadata": {},
   "source": [
    "<h1>HW5</h1>"
   ]
  },
  {
   "cell_type": "markdown",
   "id": "7151419f",
   "metadata": {},
   "source": [
    "# Question 1\n",
    "### (Beta Distribution) Complete the following exercises "
   ]
  },
  {
   "cell_type": "markdown",
   "id": "00367d25",
   "metadata": {},
   "source": [
    "### 1.1 \n",
    "\n",
    "Create a function to calculate the probability density function (PDF) of  beta distribution:\n",
    "\n",
    "\\begin{equation*}\n",
    "f(x;\\alpha,\\beta) = \\frac{\\Gamma(\\alpha+\\beta)}{\\Gamma(\\alpha)\\Gamma(\\beta)}x^{\\alpha-1}(1-x)^{\\beta-1}\n",
    "\\end{equation*}\n",
    "\n",
    "\n",
    "* Function name: pdf_beta\n",
    "\n",
    "* Input: $\\alpha$, $\\beta$, x\n",
    "\n",
    "* Output: f(x;$\\alpha$,$\\beta$)\n",
    "\n",
    "* Use SpecialFunctions.gamma() for the gamma function\n"
   ]
  },
  {
   "cell_type": "code",
   "execution_count": null,
   "id": "137bc2e7",
   "metadata": {},
   "outputs": [],
   "source": [
    "import Pkg\n",
    "Pkg.add([\"SpecialFunctions\", \"Plots\", \"LsqFit\"])"
   ]
  },
  {
   "cell_type": "code",
   "execution_count": null,
   "id": "cff81c75",
   "metadata": {},
   "outputs": [],
   "source": [
    "import SpecialFunctions\n",
    "import Plots\n",
    "import LsqFit"
   ]
  },
  {
   "cell_type": "code",
   "execution_count": null,
   "id": "11c0b4ad",
   "metadata": {},
   "outputs": [],
   "source": [
    "using SpecialFunctions\n",
    "\n",
    "function pdf_beta(alpha::Float64, beta::Float64, x::Float64)::Float64\n",
    "    if x < 0 || x > 1\n",
    "        return 0.0  # PDF is defined only for x in [0,1]\n",
    "    end\n",
    "    \n",
    "    coeff = gamma(alpha + beta) / (gamma(alpha) * gamma(beta))\n",
    "    return coeff * x^(alpha - 1) * (1 - x)^(beta - 1)\n",
    "end"
   ]
  },
  {
   "cell_type": "markdown",
   "id": "3e284e4a",
   "metadata": {},
   "source": [
    "### 1.2\n",
    "\n",
    "1. Create a x from 0 to 1 with increment of 0.001 as the probability of event. \n",
    "2. Create $\\alpha$ = 0.5 and $\\beta$ = 0.5\n",
    "3. Calculate the pdf of the beta distribution over x \n",
    "4. Plot pdf vs. x\n",
    "5. What is the shape of the beta distribution"
   ]
  },
  {
   "cell_type": "code",
   "execution_count": null,
   "id": "3bcb109a",
   "metadata": {},
   "outputs": [],
   "source": [
    "using Plots\n",
    "\n",
    "# 1. Define x values from 0 to 1 with increment of 0.001\n",
    "x_values = 0:0.001:1\n",
    "\n",
    "# 2. Define alpha and beta\n",
    "alpha = 0.5\n",
    "beta = 0.5\n",
    "\n",
    "# 3. Compute the PDF values\n",
    "y_values = [pdf_beta(alpha, beta, x) for x in x_values]\n",
    "\n",
    "# 4. Plot the Beta distribution\n",
    "plot(x_values, y_values, xlabel=\"x\", ylabel=\"PDF\", title=\"Beta Distribution (alpha=0.5, beta=0.5)\", lw=2)"
   ]
  },
  {
   "cell_type": "markdown",
   "id": "f16b469a",
   "metadata": {},
   "source": [
    "5. **Shape of the Beta Distribution**:  \n",
    "  For $\\alpha = 0.5$ and $\\beta = 0.5$, the Beta distribution exhibits a U-shaped curve. The probability density is highest at the extreme values ($x = 0$ and $x = 1$) and lowest near the middle of the interval $x = 0.5$. This shape indicates that the distribution is more likely to generate values near the boundaries of the interval (0 and 1) rather than values closer to the center. This is characteristic of a distribution with low values of both $\\alpha$ and $\\beta$ where the probability mass tends to concentrate at the ends. This creates a bimodal or U-shaped profile."
   ]
  },
  {
   "cell_type": "markdown",
   "id": "da25327c",
   "metadata": {},
   "source": [
    "### 1.3\n",
    "\n",
    "1. Change $\\alpha$ = 1 and $\\beta$ = 1\n",
    "2. Calculate the pdf of the beta distribution over x \n",
    "3. Plot pdf vs. x\n",
    "4. What is the shape of the beta distribution"
   ]
  },
  {
   "cell_type": "code",
   "execution_count": null,
   "id": "02f7d2e4",
   "metadata": {},
   "outputs": [],
   "source": [
    "# 1. Change α = 1 and β = 1\n",
    "alpha = 1.\n",
    "beta = 1.\n",
    "\n",
    "# 2. Define x values from 0 to 1 with increment of 0.001\n",
    "x_values = 0:0.001:1\n",
    "\n",
    "# 3. Compute the PDF values\n",
    "y_values = [pdf_beta(alpha, beta, x) for x in x_values]\n",
    "\n",
    "# 4. Plot the Beta distribution\n",
    "plot(x_values, y_values, xlabel=\"x\", ylabel=\"PDF\", title=\"Beta Distribution (alpha=1, beta=1)\", lw=2)"
   ]
  },
  {
   "cell_type": "markdown",
   "id": "90926e05",
   "metadata": {},
   "source": [
    "5. **Shape of the Beta Distribution**:  \n",
    "   For $\\alpha = 1$ and $\\beta = 1$ the Beta distribution becomes a uniform distribution over the interval $[0, 1]$. This means that all values within this range have equal probability, and the probability density function (PDF) is constant. The plot will show a horizontal straight line indicating that every value of $x$ between 0 and 1 is equally likely. The distribution does not favor any particular region. This is characteristic of the Beta distribution when both $\\alpha$ and $\\beta$ are equal to 1."
   ]
  },
  {
   "cell_type": "markdown",
   "id": "e22eec43",
   "metadata": {},
   "source": [
    "### 1.4\n",
    "\n",
    "1. Change $\\alpha$ = 5 and $\\beta$ = 5\n",
    "2. Calculate the pdf of the beta distribution over x \n",
    "3. Plot pdf vs. x\n",
    "4. What is the shape of the beta distribution"
   ]
  },
  {
   "cell_type": "code",
   "execution_count": null,
   "id": "ffe99096",
   "metadata": {},
   "outputs": [],
   "source": [
    "# 1. Change α = 5 and β = 5\n",
    "alpha = 5.\n",
    "beta = 5.\n",
    "\n",
    "# 2. Define x values from 0 to 1 with increment of 0.001\n",
    "x_values = 0:0.001:1\n",
    "\n",
    "# 3. Compute the PDF values\n",
    "y_values = [pdf_beta(alpha, beta, x) for x in x_values]\n",
    "\n",
    "# 4. Plot the Beta distribution\n",
    "plot(x_values, y_values, xlabel=\"x\", ylabel=\"PDF\", title=\"Beta Distribution (alpha=5, beta=5)\", lw=2)"
   ]
  },
  {
   "cell_type": "markdown",
   "id": "c3c507ab",
   "metadata": {},
   "source": [
    "5. **Shape of the Beta Distribution**:  \n",
    "   For $\\alpha = 5$ and $\\beta = 5$ the Beta distribution is symmetric and has a bell-shaped curve. The distribution is centered around $x = 0.5$, with the highest probability density at this point. As $\\alpha$ and $\\beta$ are equal and greater than 1, the distribution is unimodal and peaks at the center of the interval $[0, 1]$. The probability density decreases symmetrically towards the edges of the interval. This indicates that values near the middle are more likely than those near the boundaries. The shape is typical for Beta distributions when both parameters are greater than 1 and equal."
   ]
  },
  {
   "cell_type": "markdown",
   "id": "f178fa2c",
   "metadata": {},
   "source": [
    "### 1.5\n",
    "\n",
    "#### Assume we are using the beta distribution from 1.4 as our prior distribution for a coin flipping experiment to calculate the true distribution of flipping the coin (posterior distribution).\n",
    "\n",
    "Given the experiment results in 6 heads in 10 trials.\n",
    "\n",
    "1. Calculate the pdf of the posterior distribution given the prior and the results.\n",
    "2. Plot pdf of the prior distribution in the same plot\n",
    "3. Describe how the distribution is changed after the data came in"
   ]
  },
  {
   "cell_type": "code",
   "execution_count": null,
   "id": "668b3246",
   "metadata": {},
   "outputs": [],
   "source": [
    "# Given prior distribution parameters: α = 5, β = 5\n",
    "alpha_prior = 5.\n",
    "beta_prior = 5.\n",
    "\n",
    "# Experiment results: 6 heads out of 10 trials\n",
    "heads = 6.\n",
    "trials = 10.\n",
    "\n",
    "# 1. Calculate the posterior distribution: \n",
    "#    Posterior = Beta(α_prior + heads, β_prior + trials - heads)\n",
    "alpha_post = alpha_prior + heads\n",
    "beta_post = beta_prior + trials - heads\n",
    "\n",
    "# 2. Define x values from 0 to 1 with increment of 0.001\n",
    "x_values = 0:0.001:1\n",
    "\n",
    "# 3. Compute the PDF values for prior and posterior distributions\n",
    "y_values_prior = [pdf_beta(alpha_prior, beta_prior, x) for x in x_values]\n",
    "y_values_post = [pdf_beta(alpha_post, beta_post, x) for x in x_values]\n",
    "\n",
    "# 4. Plot the prior and posterior distributions on the same plot\n",
    "plot(x_values, y_values_prior, xlabel=\"x\", ylabel=\"PDF\", title=\"Beta Distribution (Prior and Posterior)\", lw=2, label=\"Prior Dist. (α=5, β=5)\")\n",
    "plot!(x_values, y_values_post, lw=2, label=\"Post. Dist. (α=11, β=9)\")"
   ]
  },
  {
   "cell_type": "markdown",
   "id": "01d0bbdf",
   "metadata": {},
   "source": [
    "5. **Changes in the Distribution After the Data Came In**:  \n",
    "   Initially, the prior distribution is a symmetric Beta distribution with $\\alpha = 5$ and $\\beta = 5$ which represents our prior belief that the coin is fairly balanced. The shape of this distribution is bell-shaped and uniform across the interval. After observing the experiment results (6 heads in 10 trials) the posterior distribution is updated with new parameters $\\alpha = 11$ and $\\beta = 9$. The posterior distribution is now more concentrated around $x = 0.6$ which reflects the proportion of heads observed in the trials. This update results in a more peaked distribution showing that there is a greater confidence in the estimated probability of the coin landing heads. The posterior distribution thus provides a refined estimate of the coin's bias after incorporating the data from the experiment."
   ]
  },
  {
   "cell_type": "markdown",
   "id": "79813e24",
   "metadata": {},
   "source": [
    "# Question 2\n",
    "### (LSQFIT) Complete the exercises \n",
    "\n"
   ]
  },
  {
   "cell_type": "markdown",
   "id": "425f8583",
   "metadata": {},
   "source": [
    "### 2.1 \n",
    "\n",
    "\n",
    "The exponential model is given by: \n",
    "$$\n",
    "f(x) = 3* e^x\n",
    "$$\n",
    "\n",
    "where x is defined as the range 0:0.1:1, and y is the experiment data with a measurement error with a standard deviation of 0.2. Follow the notebook LSQFIT_class.ipynb and use it as a template to\n",
    "1) Scatter plot of x vs. experiment data with fitted model (using a initial guess of the parameters of your chosing).\n",
    "2) Calculate the covariance matrix from the Hessian of Chi-square."
   ]
  },
  {
   "cell_type": "code",
   "execution_count": null,
   "id": "c694f4d9",
   "metadata": {},
   "outputs": [],
   "source": [
    "using LsqFit\n",
    "\n",
    "# Define the exponential model function (element-wise application of exp)\n",
    "model(x, p) = p[1] * exp.(p[2] * x)  # Use broadcasting with . for element-wise operation\n",
    "\n",
    "# Generate x values (range 0:0.1:1)\n",
    "x = 0:0.1:1\n",
    "x = collect(x)  # Convert to a Vector\n",
    "\n",
    "# Generate the true data with some measurement noise (SD is 0.2)\n",
    "true_params = [3, 1]  # True parameters for the exponential model\n",
    "y_true = model(x, true_params)\n",
    "y_experiment = y_true + 0.2 * randn(length(x))  # Adding noise\n",
    "\n",
    "# Initial guess for parameters [amplitude, rate]\n",
    "initial_guess = [1.0, 0.5]\n",
    "\n",
    "# Perform the nonlinear least squares fitting\n",
    "fit_result = curve_fit(model, x, y_experiment, initial_guess)\n",
    "\n",
    "# Scatter plot of experimental data\n",
    "scatter(x, y_experiment, xlabel=\"x\", ylabel=\"y\", label=\"Experiment Data\", title=\"Exponential Fit\")\n",
    "\n",
    "# Plot the fitted model on top of the experimental data\n",
    "plot!(x, model(x, fit_result.param), label=\"Fitted Model\", lw=2)\n"
   ]
  },
  {
   "cell_type": "code",
   "execution_count": null,
   "id": "2ab623b8",
   "metadata": {},
   "outputs": [],
   "source": [
    "# Print out the fitted parameters\n",
    "println(\"Fitted Parameters: \", fit_result.param)\n",
    "\n",
    "# Calculate the covariance matrix using Jacobian\n",
    "J = fit_result.jacobian  # Jacobian matrix\n",
    "residuals = y_experiment - model(x, fit_result.param)  # Residuals\n",
    "chisq = sum(residuals .^ 2)  # Chi-squared value\n",
    "cov_matrix = inv(J' * J) * chisq / (length(x) - length(fit_result.param))  # Covariance matrix\n",
    "\n",
    "println(\"Covariance Matrix: \", cov_matrix)"
   ]
  },
  {
   "cell_type": "markdown",
   "id": "6f3dda2f",
   "metadata": {},
   "source": [
    "### 2.2 \n",
    "Similar to  2.1, repeat the procedure 500 times and calculate the standard deviation of the fitted parameters.  Then compare this standard deviation to the standard deviations that you estimated from the covariance matrix from each fit (you have to think a little about how you average the covariance matrix - give a rationale)."
   ]
  },
  {
   "cell_type": "markdown",
   "id": "54dac510",
   "metadata": {},
   "source": [
    "### Rationale\n",
    "\n",
    "We repeated the fitting procedure 500 times and calculated the standard deviation of the fitted parameters directly from the 500 fits. \n",
    "\n",
    "We also calculated the standard deviations from the covariance matrices by averaging the covariance matrices across all 500 fits. The standard deviations were then extracted from the diagonal elements of the averaged covariance matrix by taking the square roots. Averaging the covariance matrices provides a more reliable estimate of uncertainty by accounting for the variability across different noisy datasets. This approach gives a more robust estimate of the parameter uncertainty which can be compared with the standard deviation of the fitted parameters."
   ]
  },
  {
   "cell_type": "code",
   "execution_count": null,
   "id": "0e83ead2",
   "metadata": {},
   "outputs": [],
   "source": [
    "# Function to perform the fitting\n",
    "function fit_experiment()\n",
    "    y_true = model(x, true_params)\n",
    "    y_experiment = y_true + 0.2 * randn(length(x))  # Adding noise\n",
    "\n",
    "    # Initial guess for parameters [amplitude, rate]\n",
    "    initial_guess = [1.0, 0.5]\n",
    "\n",
    "    # Perform the nonlinear least squares fitting\n",
    "    fit_result = curve_fit(model, x, y_experiment, initial_guess)\n",
    "    return fit_result.param, fit_result.jacobian, y_experiment\n",
    "end\n",
    "\n",
    "# Number of repetitions\n",
    "num_reps = 500\n",
    "\n",
    "# Store the fitted parameters for each repetition\n",
    "fitted_params = Matrix{Float64}(undef, num_reps, 2)\n",
    "\n",
    "# Store the covariance matrices\n",
    "cov_matrices = Vector{Matrix{Float64}}(undef, num_reps)\n",
    "\n",
    "# Perform the fitting 500 times and store results\n",
    "for i in 1:num_reps\n",
    "    param, jacobian, y_experiment = fit_experiment()\n",
    "    fitted_params[i, :] = param\n",
    "\n",
    "    # Calculate the residuals based on the current fit\n",
    "    residuals = y_experiment - model(x, param)\n",
    "    chisq = sum(residuals .^ 2)  # Chi-squared value\n",
    "    cov_matrix = inv(jacobian' * jacobian) * chisq / (length(x) - length(param))  # Covariance matrix\n",
    "    cov_matrices[i] = cov_matrix\n",
    "end\n",
    "\n",
    "# Calculate the standard deviation of the fitted parameters directly\n",
    "param_std_dev = std(fitted_params, dims=1)\n",
    "\n",
    "# Calculate the standard deviation from the covariance matrices\n",
    "# Averaging the covariance matrices over all fits\n",
    "avg_cov_matrix = mean(hcat(cov_matrices...), dims=3)\n",
    "\n",
    "# Extract the standard deviations from the diagonal of the averaged covariance matrix\n",
    "cov_std_dev = sqrt.(avg_cov_matrix[1, 1]), sqrt.(avg_cov_matrix[2, 2])\n",
    "\n",
    "# Display results\n",
    "println(\"Standard Deviation from Fitted Parameters: \", param_std_dev)\n",
    "println(\"Standard Deviation from Covariance Matrices: \", cov_std_dev)"
   ]
  }
 ],
 "metadata": {
  "kernelspec": {
   "display_name": "Julia 1.11.4",
   "language": "julia",
   "name": "julia-1.11"
  },
  "language_info": {
   "file_extension": ".jl",
   "mimetype": "application/julia",
   "name": "julia",
   "version": "1.11.4"
  }
 },
 "nbformat": 4,
 "nbformat_minor": 5
}
