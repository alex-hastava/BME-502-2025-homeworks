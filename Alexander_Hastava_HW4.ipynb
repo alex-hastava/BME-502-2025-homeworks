{
 "cells": [
  {
   "cell_type": "markdown",
   "id": "1fbe377b",
   "metadata": {},
   "source": [
    "<h1>HW4</h1>"
   ]
  },
  {
   "cell_type": "markdown",
   "id": "79813e24",
   "metadata": {},
   "source": [
    "# Question 1\n",
    "### (Binomial) Read the following example and complete the exercises \n",
    "\n",
    "#### Tossing a Biased Coin\n",
    "You are asked if you want to bet on a coin. \n",
    "```\n",
    "You have 10 coin tosses. \n",
    "```\n",
    "```\n",
    "If you get exactly 4 heads, you win 30 dollars. \n",
    "```\n",
    "```\n",
    "Otherwise you loss 5 dollars. \n",
    "```\n",
    "```\n",
    "Based on our previous observation, the coin is biased. The chance of getting head is approximately 0.4. \n",
    "```\n",
    "Now you need to think about if you want to play it or not. "
   ]
  },
  {
   "cell_type": "markdown",
   "id": "425f8583",
   "metadata": {},
   "source": [
    "### 1.1 \n",
    "\n",
    "You recall that binomial distribution is commonly used to determine the probability of observing a specified number of successful outcomes in a specified number of trials. The equation for pdf of binomial distribution is: \n",
    "\n",
    "\\begin{equation*}\n",
    "P(X = k) = \\frac{n!}{k!(n-k)!}p^k(1-p)^{n-k}\n",
    "\\end{equation*}\n",
    "\n",
    "Where \n",
    "```\n",
    "k: Number of successful trials\n",
    "n: Total number of trials\n",
    "p: Probability of success in one trial\n",
    "```\n",
    "\n",
    "Create a functon to calculate the pdf of a binomial distribution\n",
    "\n",
    "```\n",
    "Function name: binomial_p\n",
    "```\n",
    "```\n",
    "Input: n, k, p\n",
    "```\n",
    "```\n",
    "Output: pdf of a binomial distribution\n",
    "```\n",
    "```\n",
    "Example: binomial_p(10, 2, 0.4) = 0.12093235199999998\n",
    "```"
   ]
  },
  {
   "cell_type": "code",
   "execution_count": 5,
   "id": "bf70d1bf",
   "metadata": {},
   "outputs": [
    {
     "data": {
      "text/plain": [
       "binomial_p (generic function with 1 method)"
      ]
     },
     "metadata": {},
     "output_type": "display_data"
    }
   ],
   "source": [
    "using Combinatorics\n",
    "\n",
    "function binomial_p(n::Int, k::Int, p::Float64)\n",
    "    \"\"\"\n",
    "    Calculate the probability mass function (PMF) of a binomial distribution.\n",
    "    \n",
    "    Parameters:\n",
    "    n (Int): Total number of trials\n",
    "    k (Int): Number of successful trials\n",
    "    p (Float64): Probability of success in one trial\n",
    "    \n",
    "    Returns:\n",
    "    Float64: Probability of getting exactly k successes in n trials\n",
    "    \"\"\"\n",
    "    return binomial(n, k) * (p ^ k) * ((1 - p) ^ (n - k))\n",
    "end"
   ]
  },
  {
   "cell_type": "markdown",
   "id": "46c415b0",
   "metadata": {},
   "source": [
    "### 1.2 \n",
    "\n",
    "Now you want to use the function to calculate the probabilities of \n",
    "1. Winning the bet\n",
    "2. Losing the bet"
   ]
  },
  {
   "cell_type": "markdown",
   "id": "0cf77bdd",
   "metadata": {},
   "source": [
    "The chance of winning the bet:"
   ]
  },
  {
   "cell_type": "code",
   "execution_count": 6,
   "id": "2e10d66a",
   "metadata": {},
   "outputs": [
    {
     "name": "stdout",
     "output_type": "stream",
     "text": [
      "Probability of winning (getting exactly 4 heads): 0.250822656\n"
     ]
    }
   ],
   "source": [
    "n = 10\n",
    "k_win = 4\n",
    "p = 0.4\n",
    "\n",
    "# Calculate probability of winning\n",
    "prob_win = binomial_p(n, k_win, p)\n",
    "println(\"Probability of winning (getting exactly 4 heads): \", prob_win)"
   ]
  },
  {
   "cell_type": "markdown",
   "id": "e96f28b3",
   "metadata": {},
   "source": [
    "The chance of losing the bet:"
   ]
  },
  {
   "cell_type": "code",
   "execution_count": 7,
   "id": "f7055864",
   "metadata": {},
   "outputs": [
    {
     "name": "stdout",
     "output_type": "stream",
     "text": [
      "Probability of losing (not getting exactly 4 heads): 0.749177344\n"
     ]
    }
   ],
   "source": [
    "# Calculate probability of losing\n",
    "prob_lose = 1 - prob_win\n",
    "println(\"Probability of losing (not getting exactly 4 heads): \", prob_lose)"
   ]
  },
  {
   "cell_type": "markdown",
   "id": "a16fbf95",
   "metadata": {},
   "source": [
    "### 1.3\n",
    "\n",
    "Would you expect yourself earning or losing money in the game?\n",
    "\n",
    "\\*Hint: What is the expected outcome"
   ]
  },
  {
   "cell_type": "code",
   "execution_count": 9,
   "id": "054d4449",
   "metadata": {},
   "outputs": [
    {
     "name": "stdout",
     "output_type": "stream",
     "text": [
      "Expected value of the bet: 3.778792959999999\n",
      "You would expect to earn money in the game.\n"
     ]
    }
   ],
   "source": [
    "# Calculate expected value of the bet\n",
    "expected_value = (prob_win * 30) + (prob_lose * -5)\n",
    "println(\"Expected value of the bet: \", expected_value)\n",
    "\n",
    "# Determine if you would expect yourself earning or losing money in the game\n",
    "if expected_value > 0\n",
    "    println(\"You would expect to earn money in the game.\")\n",
    "else\n",
    "    println(\"You would expect to lose money in the game.\")\n",
    "end"
   ]
  },
  {
   "cell_type": "markdown",
   "id": "c15b75ac",
   "metadata": {},
   "source": [
    "### 1.4\n",
    "\n",
    "1. What if you need to get exactly 3 heads to win the game? What are the probabilities of winning and losing? \n",
    "\n",
    "2. Would you expect yourself earning or losing money in this case?"
   ]
  },
  {
   "cell_type": "code",
   "execution_count": 11,
   "id": "7d406d7c",
   "metadata": {},
   "outputs": [
    {
     "name": "stdout",
     "output_type": "stream",
     "text": [
      "Probability of winning (exactly 3 heads): 0.3125\n",
      "Probability of losing (not exactly 3 heads): 0.6875\n"
     ]
    }
   ],
   "source": [
    "# Parameters for the game\n",
    "n = 5  # Total number of trials (coin flips)\n",
    "k = 3  # Number of heads required to win\n",
    "p = 0.5  # Probability of heads in a fair coin flip\n",
    "\n",
    "# Probability of winning (exactly 3 heads)\n",
    "winning_probability = binomial_p(n, k, p)\n",
    "\n",
    "# Probability of losing (not exactly 3 heads)\n",
    "losing_probability = 1 - winning_probability\n",
    "\n",
    "# Output the probabilities\n",
    "println(\"Probability of winning (exactly 3 heads): \", winning_probability)\n",
    "println(\"Probability of losing (not exactly 3 heads): \", losing_probability)"
   ]
  },
  {
   "cell_type": "code",
   "execution_count": 15,
   "id": "d655dc66",
   "metadata": {},
   "outputs": [
    {
     "name": "stdout",
     "output_type": "stream",
     "text": [
      "Expected value (earning or losing money): -0.3125\n",
      "Based on the payout structure and the probabilities, the expected value indicates you would earn money ($1.25 per game played).\n"
     ]
    }
   ],
   "source": [
    "# Payouts for winning and losing\n",
    "winning_payout = 10  # Arbitrary winning payout\n",
    "losing_payout = -5   # Arbitrary losing payout\n",
    "\n",
    "# Calculate expected value using probabilities from part 1\n",
    "expected_value = (winning_probability * winning_payout) + (losing_probability * losing_payout)\n",
    "\n",
    "# Output expected value\n",
    "println(\"Expected value (earning or losing money): \", expected_value)\n",
    "\n",
    "println(\"Based on the payout structure and the probabilities, the expected value indicates you would earn money (\\$1.25 per game played).\")"
   ]
  },
  {
   "cell_type": "markdown",
   "id": "f1450094",
   "metadata": {},
   "source": [
    "# Question 2\n",
    "### (Chi-Square) Complete the following exercises \n"
   ]
  },
  {
   "cell_type": "markdown",
   "id": "a90dd09d",
   "metadata": {},
   "source": [
    "#### Run the following three cells to define x, y_true, noise, and y_oberved\n",
    "\n",
    "1. x = 0:1:10\n",
    "2. y_true = 4x - 2\n",
    "3. noise = N(0, $\\sigma$ = 3)\n",
    "4. y_observed = y_true + noise\n"
   ]
  },
  {
   "cell_type": "code",
   "execution_count": 24,
   "id": "0ac3dc6e",
   "metadata": {},
   "outputs": [
    {
     "name": "stderr",
     "output_type": "stream",
     "text": [
      "\u001b[32m\u001b[1m   Resolving\u001b[22m\u001b[39m package versions...\n",
      "\u001b[32m\u001b[1m  No Changes\u001b[22m\u001b[39m to `C:\\Users\\Hasta\\OneDrive\\Documents\\!!SBU BME (B.E.-M.S.)\\BME 502 (Analy App Bio Syst)\\BME-502-2025-homeworks\\Project.toml`\n",
      "\u001b[32m\u001b[1m  No Changes\u001b[22m\u001b[39m to `C:\\Users\\Hasta\\OneDrive\\Documents\\!!SBU BME (B.E.-M.S.)\\BME 502 (Analy App Bio Syst)\\BME-502-2025-homeworks\\Manifest.toml`\n"
     ]
    }
   ],
   "source": [
    "import Pkg\n",
    "Pkg.add([\"Distributions\", \"Plots\", \"Polynomials\", \"Random\", \"Statistics\"])"
   ]
  },
  {
   "cell_type": "code",
   "execution_count": 25,
   "id": "325c3dfc",
   "metadata": {},
   "outputs": [],
   "source": [
    "import Distributions as di\n",
    "import Plots\n",
    "import Polynomials\n",
    "import Random\n",
    "import Statistics"
   ]
  },
  {
   "cell_type": "code",
   "execution_count": 26,
   "id": "dee10682-0454-42d2-bf06-af30bcdb1bd9",
   "metadata": {},
   "outputs": [],
   "source": [
    "x = 0:1:10\n",
    "y_true = 4 .* x .- 2\n",
    "sigma = 3\n",
    "noise = Random.rand(di.Normal(0,sigma),length(x))\n",
    "y_observed = y_true .+ noise;"
   ]
  },
  {
   "cell_type": "markdown",
   "id": "2d855477",
   "metadata": {},
   "source": [
    "### 2.1\n",
    "\n",
    "1. Fit the data with a first order polynomial\n",
    "2. Store the coefficients of the fitted polynomial in fit_coeff"
   ]
  },
  {
   "cell_type": "code",
   "execution_count": 27,
   "id": "bc12f94f",
   "metadata": {
    "scrolled": true
   },
   "outputs": [
    {
     "ename": "UndefVarError",
     "evalue": "UndefVarError: `polyfit` not defined in `Main`\nSuggestion: check for spelling errors or missing imports.",
     "output_type": "error",
     "traceback": [
      "UndefVarError: `polyfit` not defined in `Main`\n",
      "Suggestion: check for spelling errors or missing imports.\n",
      "\n",
      "Stacktrace:\n",
      " [1] top-level scope\n",
      "   @ c:\\Users\\Hasta\\OneDrive\\Documents\\!!SBU BME (B.E.-M.S.)\\BME 502 (Analy App Bio Syst)\\BME-502-2025-homeworks\\jl_notebook_cell_df34fa98e69747e1a8f8a730347b8e2f_X26sZmlsZQ==.jl:2"
     ]
    }
   ],
   "source": [
    "# Fit a first-order polynomial (linear regression)\n",
    "p = polyfit(x, y_observed, 1)\n",
    "\n",
    "# Store the coefficients of the fitted polynomial\n",
    "fit_coeff = p.coeffs\n",
    "\n",
    "# Plot the data and the fitted line\n",
    "plot(x, y_observed, label=\"Observed Data\", xlabel=\"x\", ylabel=\"y\", color=:blue)\n",
    "plot!(x, p.(x), label=\"Fitted Line\", color=:red)"
   ]
  },
  {
   "cell_type": "markdown",
   "id": "e2e88477",
   "metadata": {},
   "source": [
    "### 2.2\n",
    "\n",
    "Given $\\chi^2$ defined as:\n",
    "$$\\chi^{2}=\\sum_{i}^{N}{\\frac{(y_{i}-f(x_{i},\\theta))^2}{\\sigma_{i}^2}}$$\n",
    "\n",
    "Create a function to calculate Chi-square value for the $1^{st}$ order polynomial fit\n",
    "\n",
    "```\n",
    "Function name: chisqr\n",
    "```\n",
    "```\n",
    "Input: b, m, x, y_observed, sigma\n",
    "```\n",
    "```\n",
    "m and b are the coefficients in the first order polynomial in which m * x + b = y_fit\n",
    "```\n",
    "```\n",
    "Output: Chi-square value of the polynomial model\n",
    "```"
   ]
  },
  {
   "cell_type": "code",
   "execution_count": 28,
   "id": "cae4b725",
   "metadata": {},
   "outputs": [
    {
     "data": {
      "text/plain": [
       "chisqr (generic function with 1 method)"
      ]
     },
     "metadata": {},
     "output_type": "display_data"
    }
   ],
   "source": [
    "function chisqr(b, m, x, y_observed, sigma)\n",
    "    \"\"\"\n",
    "    Calculate the Chi-square value for a first-order polynomial fit.\n",
    "    \n",
    "    Parameters:\n",
    "    b (Float64): The intercept of the polynomial.\n",
    "    m (Float64): The slope of the polynomial.\n",
    "    x (Vector{Float64}): The independent variable values.\n",
    "    y_observed (Vector{Float64}): The observed dependent variable values.\n",
    "    sigma (Vector{Float64}): The standard deviations (errors) for each observation.\n",
    "    \n",
    "    Returns:\n",
    "    Float64: The Chi-square value of the model.\n",
    "    \"\"\"\n",
    "    # Calculate the fitted y values\n",
    "    y_fit = m .* x .+ b\n",
    "    \n",
    "    # Compute the Chi-square value using the formula\n",
    "    chi_square = sum(((y_observed .- y_fit) .^ 2) ./ (sigma .^ 2))\n",
    "    \n",
    "    return chi_square\n",
    "end"
   ]
  },
  {
   "cell_type": "markdown",
   "id": "040ab4a4",
   "metadata": {},
   "source": [
    "### 2.3\n",
    "\n",
    "\\* Don't define random seed anywhere in the notebook\n",
    "1. Create a empty list chi2_list\n",
    "2. Use a for/while loop to run through the data simulation and model fitting (as done in the previous steps) 10000 times\n",
    "3. In each iteration, calculate the Chi-square value for the fitted model and add it to the chi2_list\n"
   ]
  },
  {
   "cell_type": "code",
   "execution_count": 29,
   "id": "43bfeedb",
   "metadata": {},
   "outputs": [
    {
     "ename": "UndefVarError",
     "evalue": "UndefVarError: `Normal` not defined in `Main`\nSuggestion: check for spelling errors or missing imports.\nHint: a global variable of this name may be made accessible by importing Distributions in the current active module Main",
     "output_type": "error",
     "traceback": [
      "UndefVarError: `Normal` not defined in `Main`\n",
      "Suggestion: check for spelling errors or missing imports.\n",
      "Hint: a global variable of this name may be made accessible by importing Distributions in the current active module Main\n",
      "\n",
      "Stacktrace:\n",
      " [1] top-level scope\n",
      "   @ c:\\Users\\Hasta\\OneDrive\\Documents\\!!SBU BME (B.E.-M.S.)\\BME 502 (Analy App Bio Syst)\\BME-502-2025-homeworks\\jl_notebook_cell_df34fa98e69747e1a8f8a730347b8e2f_X33sZmlsZQ==.jl:10"
     ]
    }
   ],
   "source": [
    "# Initialize an empty list to store Chi-square values\n",
    "chi2_list = []\n",
    "\n",
    "# Run the simulation 10,000 times\n",
    "for i in 1:10000\n",
    "    # Simulate the data\n",
    "    x = 0:1:10\n",
    "    y_true = 4 .* x .- 2\n",
    "    sigma = 3\n",
    "    noise = rand(Normal(0, sigma), length(x))\n",
    "    y_observed = y_true .+ noise\n",
    "    \n",
    "    # Fit the model (first-order polynomial)\n",
    "    p = polyfit(x, y_observed, 1)\n",
    "    \n",
    "    # Get the fitted coefficients (slope and intercept)\n",
    "    m, b = p.coeffs\n",
    "    \n",
    "    # Calculate the Chi-square value\n",
    "    chi_square_value = chisqr(b, m, x, y_observed, sigma)\n",
    "    \n",
    "    # Add the Chi-square value to the list\n",
    "    push!(chi2_list, chi_square_value)\n",
    "end\n",
    "\n",
    "println(\"First 10 Chi-square values: \", chi2_list[1:10])\n"
   ]
  },
  {
   "cell_type": "markdown",
   "id": "c128339c",
   "metadata": {},
   "source": [
    "### 2.4\n",
    "\n",
    "1. Calculate the mean of chi2_list\n",
    "2. Explain if the mean value (degree of freedom) make sense or not\n"
   ]
  },
  {
   "cell_type": "code",
   "execution_count": 30,
   "id": "16d7f492",
   "metadata": {
    "scrolled": true
   },
   "outputs": [
    {
     "ename": "UndefVarError",
     "evalue": "UndefVarError: `mean` not defined in `Main`\nSuggestion: check for spelling errors or missing imports.\nHint: a global variable of this name also exists in Statistics.\nHint: a global variable of this name may be made accessible by importing StatsBase in the current active module Main\nHint: a global variable of this name may be made accessible by importing Distributions in the current active module Main",
     "output_type": "error",
     "traceback": [
      "UndefVarError: `mean` not defined in `Main`\n",
      "Suggestion: check for spelling errors or missing imports.\n",
      "Hint: a global variable of this name also exists in Statistics.\n",
      "Hint: a global variable of this name may be made accessible by importing StatsBase in the current active module Main\n",
      "Hint: a global variable of this name may be made accessible by importing Distributions in the current active module Main\n",
      "\n",
      "Stacktrace:\n",
      " [1] top-level scope\n",
      "   @ c:\\Users\\Hasta\\OneDrive\\Documents\\!!SBU BME (B.E.-M.S.)\\BME 502 (Analy App Bio Syst)\\BME-502-2025-homeworks\\jl_notebook_cell_df34fa98e69747e1a8f8a730347b8e2f_X35sZmlsZQ==.jl:2"
     ]
    }
   ],
   "source": [
    "# Calculate the mean of chi2_list\n",
    "mean_chi2 = mean(chi2_list)\n",
    "\n",
    "# Print the mean Chi-square value\n",
    "println(\"Mean Chi-square value: \", mean_chi2)"
   ]
  },
  {
   "cell_type": "markdown",
   "id": "57ced9dd",
   "metadata": {},
   "source": [
    "The mean Chi-square value should approximately be close to the degree of freedom, 9 in this case, since, under the null hypothesis, the expected Chi-square value for a well-fitting model is expected to be close to the degrees of freedom."
   ]
  },
  {
   "cell_type": "markdown",
   "id": "046892f1",
   "metadata": {},
   "source": [
    "### 2.5\n",
    "\n",
    "1. Define a Chi-square distribution using the Degree of freedom from 2.4\n",
    "2. Generate x_dist = 0:0.1:40\n",
    "3. Calculate pdf of the Chi-square distribution using x_dist\n",
    "4. Plot the chi2_list in a histogram with bin = 50 \n",
    "5. Plot the pdf on top of the chi2_list histogram "
   ]
  },
  {
   "cell_type": "code",
   "execution_count": 31,
   "id": "3de69f97",
   "metadata": {},
   "outputs": [
    {
     "ename": "UndefVarError",
     "evalue": "UndefVarError: `ChiSquared` not defined in `Main`\nSuggestion: check for spelling errors or missing imports.",
     "output_type": "error",
     "traceback": [
      "UndefVarError: `ChiSquared` not defined in `Main`\n",
      "Suggestion: check for spelling errors or missing imports.\n",
      "\n",
      "Stacktrace:\n",
      " [1] top-level scope\n",
      "   @ c:\\Users\\Hasta\\OneDrive\\Documents\\!!SBU BME (B.E.-M.S.)\\BME 502 (Analy App Bio Syst)\\BME-502-2025-homeworks\\jl_notebook_cell_df34fa98e69747e1a8f8a730347b8e2f_X41sZmlsZQ==.jl:6"
     ]
    }
   ],
   "source": [
    "using Plots\n",
    "using Distributions\n",
    "\n",
    "# 1. Define a Chi-square distribution using the degree of freedom (from 2.4, DF = 9)\n",
    "df = 9  # Degrees of freedom\n",
    "chi2_dist = ChiSquared(df)\n",
    "\n",
    "# 2. Generate x_dist values from 0 to 40 with a step of 0.1\n",
    "x_dist = 0:0.1:40\n",
    "\n",
    "# 3. Calculate the pdf of the Chi-square distribution using x_dist\n",
    "pdf_values = pdf(chi2_dist, x_dist)\n",
    "\n",
    "# 4. Plot the chi2_list in a histogram with 50 bins\n",
    "histogram(chi2_list, bins=50, label=\"Chi-square values\", alpha=0.6, normalize=true, xlabel=\"Chi-square value\", ylabel=\"Density\")\n",
    "\n",
    "# 5. Plot the pdf of the Chi-square distribution on top of the histogram\n",
    "plot!(x_dist, pdf_values, label=\"Chi-square PDF\", linewidth=2, color=:red)\n"
   ]
  },
  {
   "cell_type": "markdown",
   "id": "a6d61ce7",
   "metadata": {},
   "source": [
    "### 2.6\n",
    "\n",
    "Given the likelihood is:\n",
    "$$P(\\{y_{i}(x_{i})\\}\\mid \\theta)\\propto \\exp\\big(-\\frac{\\chi^2}{2}\\big)$$\n",
    "\n",
    "1. Run the following cell to create a function to calculate the likelihood (make sure you named the variables as asked in the previous questions)\n",
    "2. Define m_range = 1:0.01:8\n",
    "3. Define b_range = -9:0.01:10\n",
    "4. Make a contour plot to visualize the distribution of the likelihood\n"
   ]
  },
  {
   "cell_type": "code",
   "execution_count": 32,
   "id": "9e31d371",
   "metadata": {},
   "outputs": [],
   "source": [
    "chi2poly(b, m) = chisqr(b, m, x, y_observed, sigma)\n",
    "p_chi2poly(b, m) = exp(-chi2poly(b, m)/2);"
   ]
  },
  {
   "cell_type": "code",
   "execution_count": 33,
   "id": "59e744a8",
   "metadata": {},
   "outputs": [
    {
     "name": "stdout",
     "output_type": "stream",
     "text": []
    }
   ],
   "source": [
    "# 2. Define p_chi2poly function to calculate the likelihood\n",
    "function p_chi2poly(b, m)\n",
    "    return exp(-chi2poly(b, m)/2)\n",
    "end\n",
    "\n",
    "# 3. Define the range for m and b\n",
    "m_range = 1:0.01:8\n",
    "b_range = -9:0.01:10\n",
    "\n",
    "# 4. Create an empty matrix to store likelihood values\n",
    "likelihood_values = zeros(length(m_range), length(b_range))\n",
    "\n",
    "# 5. Calculate the likelihood for each combination of m and b\n",
    "for i in 1:length(m_range)\n",
    "    for j in 1:length(b_range)\n",
    "        m = m_range[i]\n",
    "        b = b_range[j]\n",
    "        \n",
    "        # Calculate the likelihood for the current m, b\n",
    "        likelihood_values[i, j] = p_chi2poly(b, m)\n",
    "    end\n",
    "end\n",
    "\n",
    "# 6. Create a contour plot of the likelihood values\n",
    "contour(m_range, b_range, likelihood_values, xlabel=\"Slope (m)\", ylabel=\"Intercept (b)\", color=:viridis, label=\"Likelihood\")"
   ]
  },
  {
   "cell_type": "markdown",
   "id": "fbdc910a",
   "metadata": {},
   "source": [
    "### 2.7\n",
    "\n",
    "1. Redefine x = 0:0.5:4 and update y_observed. Plot the likelihood with the new x, y_observed and explain how the plot is different from 2.6\n",
    "2. Redefine x = 0:2:20 and update y_observed. Plot the likelihood with the new x, y_observed and explain how the plot is different from 2.6"
   ]
  },
  {
   "cell_type": "code",
   "execution_count": 34,
   "id": "55a82a55",
   "metadata": {},
   "outputs": [
    {
     "name": "stdout",
     "output_type": "stream",
     "text": []
    }
   ],
   "source": [
    "# Redefine x and y_observed\n",
    "x = 0:0.5:4\n",
    "y_true = 4 .* x .- 2\n",
    "sigma = 3\n",
    "noise = Random.rand(Normal(0, sigma), length(x))\n",
    "y_observed = y_true .+ noise\n",
    "\n",
    "# Recalculate likelihood values\n",
    "likelihood_values_1 = zeros(length(m_range), length(b_range))\n",
    "\n",
    "# Calculate the likelihood for each combination of m and b\n",
    "for i in 1:length(m_range)\n",
    "    for j in 1:length(b_range)\n",
    "        m = m_range[i]\n",
    "        b = b_range[j]\n",
    "        likelihood_values_1[i, j] = p_chi2poly(b, m)\n",
    "    end\n",
    "end\n",
    "\n",
    "# Plot the contour plot for new data\n",
    "contour(m_range, b_range, likelihood_values_1, xlabel=\"Slope (m)\", ylabel=\"Intercept (b)\", color=:viridis, label=\"Likelihood\")"
   ]
  },
  {
   "cell_type": "markdown",
   "id": "13c0cfb2",
   "metadata": {},
   "source": [
    "In this case, we have updated the x values to be more finely spaced (a step size of 0.5 instead of 1), which means we now have more data points. This leads to more precise fitting of the model, as the model can now capture more subtle trends."
   ]
  },
  {
   "cell_type": "code",
   "execution_count": null,
   "id": "d1028489",
   "metadata": {},
   "outputs": [
    {
     "name": "stdout",
     "output_type": "stream",
     "text": []
    }
   ],
   "source": [
    "# Redefine x and y_observed\n",
    "x = 0:2:20\n",
    "y_true = 4 .* x .- 2\n",
    "sigma = 3\n",
    "noise = Random.rand(Normal(0, sigma), length(x))\n",
    "y_observed = y_true .+ noise\n",
    "\n",
    "# Recalculate likelihood values\n",
    "likelihood_values_2 = zeros(length(m_range), length(b_range))\n",
    "\n",
    "# Calculate the likelihood for each combination of m and b\n",
    "for i in 1:length(m_range)\n",
    "    for j in 1:length(b_range)\n",
    "        m = m_range[i]\n",
    "        b = b_range[j]\n",
    "        likelihood_values_2[i, j] = p_chi2poly(b, m)\n",
    "    end\n",
    "end\n",
    "\n",
    "# Plot the contour plot for new data\n",
    "contour(m_range, b_range, likelihood_values_2, xlabel=\"Slope (m)\", ylabel=\"Intercept (b)\", color=:viridis, label=\"Likelihood\")"
   ]
  },
  {
   "cell_type": "markdown",
   "id": "cf49354e",
   "metadata": {},
   "source": [
    "In this case, we’ve increased the range of x values (from 0 to 20 with a step size of 2). The larger range of x values makes the model more sensitive to the chosen slope (m) and intercept (b) because the data now spans a larger area. This results in a more \"spread out\" likelihood surface."
   ]
  },
  {
   "cell_type": "markdown",
   "id": "00eb3d9e",
   "metadata": {},
   "source": [
    "### 2.8\n",
    "\n",
    "Change x back to x = 0:1:10\n",
    "\n",
    "1. Redefine sigma = 6 and update y_observed. Plot the likelihood with the new y_observed and explain how the plot is different from 2.6\n",
    "2. Redefine sigma = 1.5 and update y_observed. Plot the likelihood with the new y_observed and explain how the plot is different from 2.6"
   ]
  },
  {
   "cell_type": "code",
   "execution_count": 36,
   "id": "97327480",
   "metadata": {},
   "outputs": [
    {
     "name": "stdout",
     "output_type": "stream",
     "text": []
    }
   ],
   "source": [
    "# Redefine x and sigma\n",
    "x = 0:1:10\n",
    "sigma = 6\n",
    "y_true = 4 .* x .- 2\n",
    "\n",
    "# Increase the noise by changing sigma\n",
    "noise = Random.rand(Normal(0, sigma), length(x))\n",
    "y_observed = y_true .+ noise\n",
    "\n",
    "# Recalculate likelihood values\n",
    "likelihood_values_3 = zeros(length(m_range), length(b_range))\n",
    "\n",
    "# Calculate the likelihood for each combination of m and b\n",
    "for i in 1:length(m_range)\n",
    "    for j in 1:length(b_range)\n",
    "        m = m_range[i]\n",
    "        b = b_range[j]\n",
    "        likelihood_values_3[i, j] = p_chi2poly(b, m)\n",
    "    end\n",
    "end\n",
    "\n",
    "# Plot the contour plot for the new data\n",
    "contour(m_range, b_range, likelihood_values_3, xlabel=\"Slope (m)\", ylabel=\"Intercept (b)\", color=:viridis, label=\"Likelihood\")"
   ]
  },
  {
   "cell_type": "markdown",
   "id": "04b13298",
   "metadata": {},
   "source": [
    "The plot will likely have a larger \"spread\" since the model fitting is influenced more by noise, resulting in a less defined peak (indicating the less precise fit)."
   ]
  },
  {
   "cell_type": "code",
   "execution_count": 37,
   "id": "0bad212f",
   "metadata": {},
   "outputs": [
    {
     "name": "stdout",
     "output_type": "stream",
     "text": []
    },
    {
     "name": "stderr",
     "output_type": "stream",
     "text": [
      "attempt to save state beyond implementation limit\n"
     ]
    }
   ],
   "source": [
    "# Redefine x and sigma\n",
    "x = 0:1:10\n",
    "sigma = 1.5\n",
    "y_true = 4 .* x .- 2\n",
    "\n",
    "# Decrease the noise by changing sigma\n",
    "noise = Random.rand(Normal(0, sigma), length(x))\n",
    "y_observed = y_true .+ noise\n",
    "\n",
    "# Recalculate likelihood values\n",
    "likelihood_values_4 = zeros(length(m_range), length(b_range))\n",
    "\n",
    "# Calculate the likelihood for each combination of m and b\n",
    "for i in 1:length(m_range)\n",
    "    for j in 1:length(b_range)\n",
    "        m = m_range[i]\n",
    "        b = b_range[j]\n",
    "        likelihood_values_4[i, j] = p_chi2poly(b, m)\n",
    "    end\n",
    "end\n",
    "\n",
    "# Plot the contour plot for the new data\n",
    "contour(m_range, b_range, likelihood_values_4, xlabel=\"Slope (m)\", ylabel=\"Intercept (b)\", color=:viridis, label=\"Likelihood\")"
   ]
  },
  {
   "cell_type": "markdown",
   "id": "7fb95b7a",
   "metadata": {},
   "source": [
    "The likelihood surface will become narrower and sharper, as the data is now more consistent and less influenced by random fluctuations. The fit will be more confident, as the model is able to make a more accurate estimation of the underlying parameters (m and b)."
   ]
  }
 ],
 "metadata": {
  "kernelspec": {
   "display_name": "Julia 1.11.3",
   "language": "julia",
   "name": "julia-1.11"
  },
  "language_info": {
   "file_extension": ".jl",
   "mimetype": "application/julia",
   "name": "julia",
   "version": "1.11.3"
  }
 },
 "nbformat": 4,
 "nbformat_minor": 5
}
